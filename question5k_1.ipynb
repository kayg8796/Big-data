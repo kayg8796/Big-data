{
 "cells": [
  {
   "cell_type": "code",
   "execution_count": null,
   "metadata": {},
   "outputs": [],
   "source": [
    "import pandas as pd\n",
    "from nltk.corpus import stopwords\n",
    "from nltk.stem import WordNetLemmatizer\n",
    "import nltk\n",
    "nltk.download('stopwords')"
   ]
  },
  {
   "cell_type": "code",
   "execution_count": null,
   "metadata": {},
   "outputs": [],
   "source": [
    "df = pd.read_csv('fake_job_postings.csv')\n",
    "df.head(5)"
   ]
  },
  {
   "cell_type": "code",
   "execution_count": null,
   "metadata": {},
   "outputs": [],
   "source": [
    "from sklearn.model_selection import KFold\n",
    "from sklearn.metrics import classification_report as clrp\n",
    "kf = KFold(n_splits=5)"
   ]
  },
  {
   "cell_type": "code",
   "execution_count": null,
   "metadata": {},
   "outputs": [],
   "source": [
    "df_desc = df.description"
   ]
  },
  {
   "cell_type": "code",
   "execution_count": null,
   "metadata": {},
   "outputs": [],
   "source": [
    "lemmatizer = WordNetLemmatizer() \n",
    "w_tokenizer = nltk.tokenize.WhitespaceTokenizer()\n",
    "stop = stopwords.words('english')\n",
    "\n",
    "def lemmatize_text1(text):\n",
    "    return [lemmatizer.lemmatize(w,pos=\"v\") for w in w_tokenizer.tokenize(text)]\n",
    "def lemmatize_text2(text):\n",
    "    return [lemmatizer.lemmatize(w,pos=\"n\") for w in text]"
   ]
  },
  {
   "cell_type": "code",
   "execution_count": null,
   "metadata": {},
   "outputs": [],
   "source": [
    "df_desc.fillna('')"
   ]
  },
  {
   "cell_type": "code",
   "execution_count": null,
   "metadata": {},
   "outputs": [],
   "source": [
    "df_desc= df_desc.str.replace('[^\\w\\s]','') #remove punctuation\n",
    "df_desc= df_desc.str.replace('\\d+', '') #remove numbers \n",
    "df_desc= df_desc.apply(lambda x: \" \".join(x.lower() for x in str(x).split())) #lowercase\n",
    "df_desc= df_desc.apply(lemmatize_text1)\n",
    "df_desc= df_desc.apply(lemmatize_text2)\n",
    "df_desc= df_desc.apply(lambda x: \" \".join(x for x in x if x not in stop)) #remove stopwords"
   ]
  },
  {
   "cell_type": "code",
   "execution_count": null,
   "metadata": {},
   "outputs": [],
   "source": [
    "from sklearn.feature_extraction.text import TfidfVectorizer\n",
    "vectorizer = TfidfVectorizer(ngram_range=(2,3))\n",
    "xtrain_matrix = vectorizer.fit_transform(df_desc)\n",
    "ytrain_matrix = df.fraudulent"
   ]
  },
  {
   "cell_type": "code",
   "execution_count": null,
   "metadata": {},
   "outputs": [],
   "source": [
    "from sklearn.svm import LinearSVC\n",
    "classifier= LinearSVC(random_state=0, tol=1e-5) \n",
    "for train_index, test_index in kf.split(xtrain_matrix,ytrain_matrix):\n",
    "    classifier.fit(xtrain_matrix[train_index],ytrain_matrix[train_index])\n",
    "    ypred=classifier.predict(xtrain_matrix[test_index])\n",
    "    ytestt=ytrain_matrix[test_index]\n",
    "    print(clrp(ytestt,ypred))"
   ]
  },
  {
   "cell_type": "code",
   "execution_count": null,
   "metadata": {},
   "outputs": [],
   "source": [
    "xtrain_matrix.shape"
   ]
  },
  {
   "cell_type": "code",
   "execution_count": null,
   "metadata": {},
   "outputs": [],
   "source": [
    "from xgboost import XGBClassifier\n",
    "classifier2 = XGBClassifier()\n",
    "for train_index, test_index in kf.split(xtrain_matrix,ytrain_matrix):\n",
    "    classifier2.fit(xtrain_matrix[train_index],ytrain_matrix[train_index])\n",
    "    ypred=classifier2.predict(xtrain_matrix[test_index])\n",
    "    ytestt=ytrain_matrix[test_index]\n",
    "    print(clrp(ytestt,ypred))"
   ]
  },
  {
   "cell_type": "code",
   "execution_count": null,
   "metadata": {},
   "outputs": [],
   "source": [
    "from sklearn.tree import DecisionTreeClassifier\n",
    "classifier2 = DecisionTreeClassifier()\n",
    "for train_index, test_index in kf.split(xtrain_matrix,ytrain_matrix):\n",
    "    classifier2.fit(xtrain_matrix[train_index],ytrain_matrix[train_index])\n",
    "    ypred=classifier2.predict(xtrain_matrix[test_index])\n",
    "    ytestt=ytrain_matrix[test_index]\n",
    "    print(clrp(ytestt,ypred))"
   ]
  },
  {
   "cell_type": "code",
   "execution_count": null,
   "metadata": {},
   "outputs": [],
   "source": []
  }
 ],
 "metadata": {
  "kernelspec": {
   "display_name": "Python 3",
   "language": "python",
   "name": "python3"
  },
  "language_info": {
   "codemirror_mode": {
    "name": "ipython",
    "version": 3
   },
   "file_extension": ".py",
   "mimetype": "text/x-python",
   "name": "python",
   "nbconvert_exporter": "python",
   "pygments_lexer": "ipython3",
   "version": "3.7.4"
  }
 },
 "nbformat": 4,
 "nbformat_minor": 2
}
