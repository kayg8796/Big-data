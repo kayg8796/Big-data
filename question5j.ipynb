{
 "cells": [
  {
   "cell_type": "code",
   "execution_count": null,
   "metadata": {},
   "outputs": [],
   "source": [
    "import pandas as pd\n",
    "df=pd.read_csv('fake_job_postings.csv')\n",
    "df.head(10)"
   ]
  },
  {
   "cell_type": "code",
   "execution_count": null,
   "metadata": {},
   "outputs": [],
   "source": [
    "import seaborn as sns\n",
    "sns.countplot(x='fraudulent', data=df)"
   ]
  },
  {
   "cell_type": "code",
   "execution_count": null,
   "metadata": {},
   "outputs": [],
   "source": [
    "from sklearn.naive_bayes import GaussianNB\n",
    "from sklearn.ensemble import RandomForestClassifier\n",
    "from sklearn.neighbors import KNeighborsClassifier\n",
    "import numpy as np\n",
    "from sklearn.model_selection import KFold\n",
    "from sklearn.metrics import classification_report as clrp\n",
    "kf = KFold(n_splits=5)\n",
    "classifier = GaussianNB()\n",
    "classifier1 = RandomForestClassifier(criterion='entropy',random_state=0)\n",
    "classifier2 = KNeighborsClassifier()"
   ]
  },
  {
   "cell_type": "code",
   "execution_count": null,
   "metadata": {},
   "outputs": [],
   "source": [
    "from sklearn.model_selection import train_test_split\n",
    "xt = df.telecommuting.values.reshape([-1,1])"
   ]
  },
  {
   "cell_type": "code",
   "execution_count": null,
   "metadata": {},
   "outputs": [],
   "source": [
    "xt.shape"
   ]
  },
  {
   "cell_type": "code",
   "execution_count": null,
   "metadata": {},
   "outputs": [],
   "source": [
    "for train_index, test_index in kf.split(xt,df.fraudulent):\n",
    "    classifier.fit(xt[train_index],df.fraudulent[train_index])\n",
    "    ypred=classifier.predict(xt[test_index])\n",
    "    ytestt=df.fraudulent[test_index]\n",
    "    print(clrp(ytestt,ypred))"
   ]
  },
  {
   "cell_type": "code",
   "execution_count": null,
   "metadata": {},
   "outputs": [],
   "source": [
    "#second part of question\n",
    "#adding more attributes for performing the classification using two different models\n",
    "#model 1 : randomforest\n",
    "xt1= pd.DataFrame([])\n",
    "xt1['Tel']=df.telecommuting\n",
    "xt1['logo']=df.has_company_logo\n",
    "xt1['ques']=df.has_questions\n",
    "xt1=np.array(xt1)"
   ]
  },
  {
   "cell_type": "code",
   "execution_count": null,
   "metadata": {},
   "outputs": [],
   "source": [
    "for train_index, test_index in kf.split(xt1,df.fraudulent):\n",
    "    classifier1.fit(xt1[train_index],df.fraudulent[train_index])\n",
    "    ypred=classifier1.predict(xt1[test_index])\n",
    "    ytestt=df.fraudulent[test_index]\n",
    "    print(clrp(ytestt,ypred))"
   ]
  },
  {
   "cell_type": "code",
   "execution_count": null,
   "metadata": {},
   "outputs": [],
   "source": [
    "#for knearest neighbor classifier\n",
    "for train_index, test_index in kf.split(xt1,df.fraudulent):\n",
    "    classifier2.fit(xt1[train_index],df.fraudulent[train_index])\n",
    "    ypred=classifier2.predict(xt1[test_index])\n",
    "    ytestt=df.fraudulent[test_index]\n",
    "    print(clrp(ytestt,ypred))"
   ]
  },
  {
   "cell_type": "code",
   "execution_count": null,
   "metadata": {},
   "outputs": [],
   "source": []
  }
 ],
 "metadata": {
  "kernelspec": {
   "display_name": "Python 3",
   "language": "python",
   "name": "python3"
  },
  "language_info": {
   "codemirror_mode": {
    "name": "ipython",
    "version": 3
   },
   "file_extension": ".py",
   "mimetype": "text/x-python",
   "name": "python",
   "nbconvert_exporter": "python",
   "pygments_lexer": "ipython3",
   "version": "3.7.4"
  }
 },
 "nbformat": 4,
 "nbformat_minor": 2
}
